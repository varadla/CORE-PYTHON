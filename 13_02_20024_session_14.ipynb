{
 "cells": [
  {
   "cell_type": "code",
   "execution_count": null,
   "metadata": {},
   "outputs": [],
   "source": [
    "[1,5,6,7,14,15,18,19,32,25]listenin tek elemanlarinin karesini, cift elemanlarinin  2 katini liste halinde donduren while dongusunu yazdirin."
   ]
  },
  {
   "cell_type": "code",
   "execution_count": 8,
   "metadata": {},
   "outputs": [
    {
     "name": "stdout",
     "output_type": "stream",
     "text": [
      "[1, 25, 12, 49, 28, 225, 36, 361, 64, 625]\n"
     ]
    }
   ],
   "source": [
    "sayilar_listesi = [1,5,6,7,14,15,18,19,32,25]\n",
    "x = 0\n",
    "result = []\n",
    "while x < len(sayilar_listesi):\n",
    "    if sayilar_listesi[x] % 2:\n",
    "        result.append(sayilar_listesi[x] ** 2)\n",
    "    else:\n",
    "        result.append(sayilar_listesi[x] * 2)\n",
    "    x +=1\n",
    "        \n",
    "print(result)\n",
    "        "
   ]
  },
  {
   "cell_type": "code",
   "execution_count": 1,
   "metadata": {},
   "outputs": [
    {
     "data": {
      "text/plain": [
       "1"
      ]
     },
     "execution_count": 1,
     "metadata": {},
     "output_type": "execute_result"
    }
   ],
   "source": [
    "5 % 2"
   ]
  },
  {
   "cell_type": "code",
   "execution_count": 11,
   "metadata": {},
   "outputs": [
    {
     "data": {
      "text/plain": [
       "0"
      ]
     },
     "execution_count": 11,
     "metadata": {},
     "output_type": "execute_result"
    }
   ],
   "source": [
    "6 % 2"
   ]
  },
  {
   "cell_type": "code",
   "execution_count": null,
   "metadata": {},
   "outputs": [],
   "source": [
    "6 % 2\n",
    "print(\" bu cikti vermez\")"
   ]
  },
  {
   "cell_type": "code",
   "execution_count": 10,
   "metadata": {},
   "outputs": [
    {
     "name": "stdout",
     "output_type": "stream",
     "text": [
      "[1, 25, 12, 49, 28, 225, 36, 361, 64, 625]\n"
     ]
    }
   ],
   "source": [
    "sayilar_listesi = [1,5,6,7,14,15,18,19,32,25]\n",
    "x = 0\n",
    "result = []\n",
    "while x < len(sayilar_listesi):\n",
    "    if sayilar_listesi[x] % 2:\n",
    "        result.append(sayilar_listesi[x] ** 2)\n",
    "    else:\n",
    "        result.append(sayilar_listesi[x] * 2)\n",
    "    x +=1\n",
    "        \n",
    "print(result)"
   ]
  },
  {
   "cell_type": "code",
   "execution_count": 9,
   "metadata": {},
   "outputs": [
    {
     "name": "stdout",
     "output_type": "stream",
     "text": [
      "[1, 25, 12, 49, 28, 225, 36, 361, 64, 625]\n"
     ]
    }
   ],
   "source": [
    "sayilar_listesi = [1,5,6,7,14,15,18,19,32,25]\n",
    "x = 0\n",
    "result = []\n",
    "while x < len(sayilar_listesi):\n",
    "    if sayilar_listesi[x] % 2 == 1:\n",
    "        result.append(sayilar_listesi[x] ** 2)\n",
    "    else:\n",
    "        result.append(sayilar_listesi[x] * 2)\n",
    "    x +=1\n",
    "        \n",
    "print(result)"
   ]
  },
  {
   "cell_type": "code",
   "execution_count": 12,
   "metadata": {},
   "outputs": [
    {
     "data": {
      "text/plain": [
       "1.1"
      ]
     },
     "execution_count": 12,
     "metadata": {},
     "output_type": "execute_result"
    }
   ],
   "source": [
    "1.1 % 2"
   ]
  },
  {
   "cell_type": "code",
   "execution_count": 13,
   "metadata": {},
   "outputs": [
    {
     "data": {
      "text/plain": [
       "1.5"
      ]
     },
     "execution_count": 13,
     "metadata": {},
     "output_type": "execute_result"
    }
   ],
   "source": [
    "3.5 % 2"
   ]
  },
  {
   "cell_type": "markdown",
   "metadata": {},
   "source": [
    "# randam modulu"
   ]
  },
  {
   "cell_type": "code",
   "execution_count": 14,
   "metadata": {},
   "outputs": [],
   "source": [
    "import random # import ifadesi modulu dosyaya aktarmak icin kullanilir"
   ]
  },
  {
   "cell_type": "code",
   "execution_count": 42,
   "metadata": {},
   "outputs": [
    {
     "data": {
      "text/plain": [
       "0.6925694600638151"
      ]
     },
     "execution_count": 42,
     "metadata": {},
     "output_type": "execute_result"
    }
   ],
   "source": [
    "random.random() #0 dahil 1 dahil degil  araliginda sayilar uretir."
   ]
  },
  {
   "cell_type": "code",
   "execution_count": 44,
   "metadata": {},
   "outputs": [
    {
     "data": {
      "text/plain": [
       "0.6820045605879779"
      ]
     },
     "execution_count": 44,
     "metadata": {},
     "output_type": "execute_result"
    }
   ],
   "source": [
    "random.seed(37) # belli bir sabite gore ayni degerleri rasal olarak uretir.\n",
    "random.random()"
   ]
  },
  {
   "cell_type": "code",
   "execution_count": 53,
   "metadata": {},
   "outputs": [
    {
     "data": {
      "text/plain": [
       "3"
      ]
     },
     "execution_count": 53,
     "metadata": {},
     "output_type": "execute_result"
    }
   ],
   "source": [
    "random.randint(1,6)"
   ]
  },
  {
   "cell_type": "code",
   "execution_count": 65,
   "metadata": {},
   "outputs": [
    {
     "data": {
      "text/plain": [
       "[82, 90, 55, 75, 72]"
      ]
     },
     "execution_count": 65,
     "metadata": {},
     "output_type": "execute_result"
    }
   ],
   "source": [
    "random.sample(range(100),5)"
   ]
  },
  {
   "cell_type": "code",
   "execution_count": 64,
   "metadata": {},
   "outputs": [
    {
     "data": {
      "text/plain": [
       "59"
      ]
     },
     "execution_count": 64,
     "metadata": {},
     "output_type": "execute_result"
    }
   ],
   "source": [
    "random.randrange(4,100,5)"
   ]
  },
  {
   "cell_type": "code",
   "execution_count": 66,
   "metadata": {},
   "outputs": [
    {
     "name": "stdout",
     "output_type": "stream",
     "text": [
      "Girdiğiniz sayi : 55. Tahminini azalt\n",
      "Girdiğiniz sayi : 13. Tahminini arttir\n",
      "Girdiğiniz sayi : 77. Tahminini azalt\n",
      "Girdiğiniz sayi : 83. Tahminini azalt\n",
      "Girdiğiniz sayi : 98. Tahminini azalt\n",
      "Girdiğiniz sayi : 85. Tahminini azalt\n",
      "Girdiğiniz sayi : 98. Tahminini azalt\n",
      "Girdiğiniz sayi : 75. Tahminini azalt\n",
      "Girdiğiniz sayi : 60. Tahminini azalt\n",
      "Girdiğiniz sayi : 44. Tahminini arttir\n",
      "Girdiğiniz sayi : 35. Tahminini arttir\n",
      "Girdiğiniz sayi : 48. Tahminini azalt\n",
      "Girdiğiniz sayi : 45. Tahminini arttir\n",
      "Girdiğiniz sayi : 47. 14 kerede bildiniz. Tebrikler. \n"
     ]
    }
   ],
   "source": [
    "y = True\n",
    "aklimdaki_sayi = random.randint(1,100)\n",
    "sayac = 0\n",
    "while y:\n",
    "    tahmin = int(input(\"1 ile 100 arasinda bir sayi tahmin edin.\"))\n",
    "    sayac += 1\n",
    "    if aklimdaki_sayi < tahmin:\n",
    "        print(f\"Girdiğiniz sayi : {tahmin}. Tahminini azalt\")\n",
    "    elif aklimdaki_sayi > tahmin:\n",
    "        print(f\"Girdiğiniz sayi : {tahmin}. Tahminini arttir\")\n",
    "    else:\n",
    "        print(f\"Girdiğiniz sayi : {tahmin}. {sayac} kerede bildiniz. Tebrikler. \")\n",
    "        y = False"
   ]
  },
  {
   "cell_type": "markdown",
   "metadata": {},
   "source": [
    "## break, continue"
   ]
  },
  {
   "cell_type": "code",
   "execution_count": 67,
   "metadata": {},
   "outputs": [
    {
     "name": "stdout",
     "output_type": "stream",
     "text": [
      "Girdiğiniz sayi : 11. Tahminini arttir\n",
      "Girdiğiniz sayi : 25. Tahminini arttir\n",
      "Girdiğiniz sayi : 45. Tahminini arttir\n",
      "Girdiğiniz sayi : 33. Tahminini arttir\n",
      "Girdiğiniz sayi : 78. Tahminini arttir\n",
      "Girdiğiniz sayi : 76. Tahminini arttir\n",
      "Girdiğiniz sayi : 98. Tahminini azalt\n",
      "Girdiğiniz sayi : 99. Tahminini azalt\n",
      "Girdiğiniz sayi : 87. Tahminini azalt\n",
      "Girdiğiniz sayi : 80. Tahminini arttir\n",
      "Girdiğiniz sayi : 82. 14 kerede bildiniz. Tebrikler. \n"
     ]
    }
   ],
   "source": [
    "\n",
    "aklimdaki_sayi = random.randint(1,100)\n",
    "\n",
    "while True:\n",
    "    tahmin = int(input(\"1 ile 100 arasinda bir sayi tahmin edin.\"))\n",
    "    if aklimdaki_sayi < tahmin:\n",
    "        print(f\"Girdiğiniz sayi : {tahmin}. Tahminini azalt\")\n",
    "    elif aklimdaki_sayi > tahmin:\n",
    "        print(f\"Girdiğiniz sayi : {tahmin}. Tahminini arttir\")\n",
    "    else:\n",
    "        print(f\"Girdiğiniz sayi : {tahmin}. {sayac} kerede bildiniz. Tebrikler. \")\n",
    "        break"
   ]
  },
  {
   "cell_type": "code",
   "execution_count": 73,
   "metadata": {},
   "outputs": [
    {
     "name": "stdout",
     "output_type": "stream",
     "text": [
      "Girdiğiniz sayi : 67. Tahminini azalt\n",
      "Girdiğiniz sayi : 23. Tahminini arttir\n",
      "Girdiğiniz sayi : 45. Tahminini azalt\n",
      "Girdiğiniz sayi : 34. Tahminini azalt\n",
      "Girdiğiniz sayi : 29. Tahminini azalt\n",
      "5 hakkin bitti. sayi 28\n"
     ]
    }
   ],
   "source": [
    "import time\n",
    "aklimdaki_sayi = random.randint(1,100)\n",
    "time.sleep(2)\n",
    "sayac = 0\n",
    "while True:\n",
    "    tahmin = int(input(\"1 ile 100 arasinda bir sayi tahmin edin.\"))\n",
    "    sayac += 1\n",
    "    time.sleep(2)\n",
    "    if aklimdaki_sayi < tahmin:\n",
    "        print(f\"Girdiğiniz sayi : {tahmin}. Tahminini azalt\")\n",
    "    elif aklimdaki_sayi > tahmin:\n",
    "        print(f\"Girdiğiniz sayi : {tahmin}. Tahminini arttir\")\n",
    "    else:\n",
    "        print(f\"Girdiğiniz sayi : {tahmin}. Dogru bildiniz. Tebrikler. \")\n",
    "        break\n",
    "    time.sleep(2)\n",
    "    if sayac == 5:\n",
    "        print(f\"5 hakkin bitti. sayi {aklimdaki_sayi}\")\n",
    "        break"
   ]
  },
  {
   "cell_type": "code",
   "execution_count": 75,
   "metadata": {},
   "outputs": [
    {
     "name": "stdout",
     "output_type": "stream",
     "text": [
      "10\n"
     ]
    }
   ],
   "source": [
    "liste = [1, 2, 3, 4, \"Techpro\", 5, 6, 7] # sirayla int degerleri toplayin.str ifadeye denk gelince kod sonlansin.\n",
    "x = 0\n",
    "toplam = 0\n",
    "while x < len(liste):\n",
    "    if type(liste[x]) == int:\n",
    "        toplam += liste[x]\n",
    "    elif type(liste[x]) == str:\n",
    "        break\n",
    "    x += 1\n",
    "print(toplam)"
   ]
  },
  {
   "cell_type": "code",
   "execution_count": null,
   "metadata": {},
   "outputs": [
    {
     "name": "stdout",
     "output_type": "stream",
     "text": [
      "28\n"
     ]
    }
   ],
   "source": [
    "liste = [1, 2, 3, 4, \"Techpro\", 5, 6, 7] # sirayla int degerleri toplayin.str ifadeye denk gelince o ifadeyi atlayin ve devam edin.\n",
    "x = 0\n",
    "toplam = 0\n",
    "while x < len(liste):\n",
    "    if type(liste[x]) == int:\n",
    "        toplam += liste[x]\n",
    "    elif type(liste[x]) == str:\n",
    "        x += 1\n",
    "        continue\n",
    "    x += 1\n",
    "print(toplam)"
   ]
  },
  {
   "cell_type": "markdown",
   "metadata": {},
   "source": [
    "# min() & max()"
   ]
  },
  {
   "cell_type": "code",
   "execution_count": 77,
   "metadata": {},
   "outputs": [],
   "source": [
    "liste =  [2, 5, 1, 3, 9, 4, 6, 8, 15, 48, 256]"
   ]
  },
  {
   "cell_type": "code",
   "execution_count": 80,
   "metadata": {},
   "outputs": [
    {
     "data": {
      "text/plain": [
       "1"
      ]
     },
     "execution_count": 80,
     "metadata": {},
     "output_type": "execute_result"
    }
   ],
   "source": [
    "min(liste)"
   ]
  },
  {
   "cell_type": "code",
   "execution_count": 78,
   "metadata": {},
   "outputs": [
    {
     "data": {
      "text/plain": [
       "256"
      ]
     },
     "execution_count": 78,
     "metadata": {},
     "output_type": "execute_result"
    }
   ],
   "source": [
    "max(liste)"
   ]
  },
  {
   "cell_type": "code",
   "execution_count": 81,
   "metadata": {},
   "outputs": [],
   "source": [
    "tuple = (5,8,4,6,9)"
   ]
  },
  {
   "cell_type": "code",
   "execution_count": 82,
   "metadata": {},
   "outputs": [
    {
     "data": {
      "text/plain": [
       "4"
      ]
     },
     "execution_count": 82,
     "metadata": {},
     "output_type": "execute_result"
    }
   ],
   "source": [
    "min(tuple)"
   ]
  },
  {
   "cell_type": "code",
   "execution_count": 83,
   "metadata": {},
   "outputs": [
    {
     "data": {
      "text/plain": [
       "'ayhan'"
      ]
     },
     "execution_count": 83,
     "metadata": {},
     "output_type": "execute_result"
    }
   ],
   "source": [
    "min([\"techpro\", \"ayhan\", \"irem\"])"
   ]
  },
  {
   "cell_type": "code",
   "execution_count": 84,
   "metadata": {},
   "outputs": [
    {
     "ename": "TypeError",
     "evalue": "'<' not supported between instances of 'int' and 'str'",
     "output_type": "error",
     "traceback": [
      "\u001b[1;31m---------------------------------------------------------------------------\u001b[0m",
      "\u001b[1;31mTypeError\u001b[0m                                 Traceback (most recent call last)",
      "Cell \u001b[1;32mIn[84], line 1\u001b[0m\n\u001b[1;32m----> 1\u001b[0m \u001b[38;5;28;43mmin\u001b[39;49m\u001b[43m(\u001b[49m\u001b[43m[\u001b[49m\u001b[38;5;124;43m\"\u001b[39;49m\u001b[38;5;124;43mtechpro\u001b[39;49m\u001b[38;5;124;43m\"\u001b[39;49m\u001b[43m,\u001b[49m\u001b[43m \u001b[49m\u001b[38;5;124;43m\"\u001b[39;49m\u001b[38;5;124;43mayhan\u001b[39;49m\u001b[38;5;124;43m\"\u001b[39;49m\u001b[43m,\u001b[49m\u001b[43m \u001b[49m\u001b[38;5;124;43m\"\u001b[39;49m\u001b[38;5;124;43mirem\u001b[39;49m\u001b[38;5;124;43m\"\u001b[39;49m\u001b[43m,\u001b[49m\u001b[38;5;241;43m15\u001b[39;49m\u001b[43m]\u001b[49m\u001b[43m)\u001b[49m\n",
      "\u001b[1;31mTypeError\u001b[0m: '<' not supported between instances of 'int' and 'str'"
     ]
    }
   ],
   "source": [
    "min([\"techpro\", \"ayhan\", \"irem\",15])"
   ]
  },
  {
   "cell_type": "code",
   "execution_count": null,
   "metadata": {},
   "outputs": [],
   "source": [
    " listenin en kucuk ve en buyukliste_1 = [4,5,6,9,85,23,65,47,32,91] elemanini min ve max fonksiyonu kulanmadan bulun. sort fonk da kullanmayin."
   ]
  },
  {
   "cell_type": "code",
   "execution_count": 85,
   "metadata": {},
   "outputs": [],
   "source": [
    "liste_1 = [4,5,6,9,85,23,65,47,32,91]"
   ]
  },
  {
   "cell_type": "code",
   "execution_count": 94,
   "metadata": {},
   "outputs": [
    {
     "name": "stdout",
     "output_type": "stream",
     "text": [
      "4, 91\n"
     ]
    }
   ],
   "source": [
    "liste_kucuk = liste_1[0]\n",
    "liste_buyuk = liste_1[0]\n",
    "z = 0\n",
    "while z < len(liste_1):\n",
    "    if liste_1[z] < liste_kucuk:\n",
    "        liste_kucuk = liste_1[z]\n",
    "    elif liste_1[z] >= liste_buyuk:\n",
    "        liste_buyuk = liste_1[z]\n",
    "     \n",
    "    z += 1\n",
    "print(f\"{liste_kucuk}, {liste_buyuk}\")\n"
   ]
  }
 ],
 "metadata": {
  "kernelspec": {
   "display_name": "Python 3",
   "language": "python",
   "name": "python3"
  },
  "language_info": {
   "codemirror_mode": {
    "name": "ipython",
    "version": 3
   },
   "file_extension": ".py",
   "mimetype": "text/x-python",
   "name": "python",
   "nbconvert_exporter": "python",
   "pygments_lexer": "ipython3",
   "version": "3.11.8"
  }
 },
 "nbformat": 4,
 "nbformat_minor": 2
}
