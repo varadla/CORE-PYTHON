{
 "cells": [
  {
   "cell_type": "markdown",
   "metadata": {},
   "source": [
    "## for"
   ]
  },
  {
   "cell_type": "code",
   "execution_count": 2,
   "metadata": {},
   "outputs": [
    {
     "name": "stdout",
     "output_type": "stream",
     "text": [
      "t\n",
      "e\n",
      "c\n",
      "h\n",
      "p\n",
      "r\n",
      "o\n"
     ]
    }
   ],
   "source": [
    "for i in \"techpro\": # for dongusu iterable lar ile calisir\n",
    "    print(i)"
   ]
  },
  {
   "cell_type": "code",
   "execution_count": 3,
   "metadata": {},
   "outputs": [
    {
     "name": "stdout",
     "output_type": "stream",
     "text": [
      "t * tt\n",
      "e * ee\n",
      "c * cc\n",
      "h * hh\n",
      "p * pp\n",
      "r * rr\n",
      "o * oo\n"
     ]
    }
   ],
   "source": [
    "for i in \"techpro\": # for dongusu iterable lar ile calisir\n",
    "    print(i, \"*\", i * 2)"
   ]
  },
  {
   "cell_type": "code",
   "execution_count": null,
   "metadata": {},
   "outputs": [
    {
     "name": "stdout",
     "output_type": "stream",
     "text": [
      "t * tt\n",
      "e * ee\n",
      "c * cc\n",
      "h * hh\n",
      "p * pp\n",
      "r * rr\n",
      "o * oo\n"
     ]
    }
   ],
   "source": [
    "for k in \"techpro\": # for dongusu iterable lar ile calisir\n",
    "    print(k, \"*\", k * 2)"
   ]
  },
  {
   "cell_type": "code",
   "execution_count": 6,
   "metadata": {},
   "outputs": [
    {
     "data": {
      "text/plain": [
       "'o'"
      ]
     },
     "execution_count": 6,
     "metadata": {},
     "output_type": "execute_result"
    }
   ],
   "source": [
    "k"
   ]
  },
  {
   "cell_type": "code",
   "execution_count": 7,
   "metadata": {},
   "outputs": [
    {
     "name": "stdout",
     "output_type": "stream",
     "text": [
      "1\n",
      "4\n",
      "9\n",
      "16\n",
      "25\n"
     ]
    }
   ],
   "source": [
    "liste_2 = [1, 2, 3, 4, 5]\n",
    "for i in liste_2:\n",
    "    print(i ** 2)"
   ]
  },
  {
   "cell_type": "code",
   "execution_count": 8,
   "metadata": {},
   "outputs": [
    {
     "data": {
      "text/plain": [
       "True"
      ]
     },
     "execution_count": 8,
     "metadata": {},
     "output_type": "execute_result"
    }
   ],
   "source": [
    "\"e\" in \"hello\""
   ]
  },
  {
   "cell_type": "code",
   "execution_count": 9,
   "metadata": {},
   "outputs": [
    {
     "data": {
      "text/plain": [
       "False"
      ]
     },
     "execution_count": 9,
     "metadata": {},
     "output_type": "execute_result"
    }
   ],
   "source": [
    "\"a\" in \"hello\""
   ]
  },
  {
   "cell_type": "code",
   "execution_count": 10,
   "metadata": {},
   "outputs": [
    {
     "name": "stdout",
     "output_type": "stream",
     "text": [
      "1\n",
      "4\n",
      "9\n",
      "16\n",
      "25\n"
     ]
    }
   ],
   "source": [
    "liste_2 = [1, 2, 3, 4, 5]\n",
    "for i in liste_2:\n",
    "    print(i ** 2)"
   ]
  },
  {
   "cell_type": "code",
   "execution_count": 11,
   "metadata": {},
   "outputs": [
    {
     "name": "stdout",
     "output_type": "stream",
     "text": [
      "1\n",
      "4\n",
      "9\n",
      "16\n",
      "25\n"
     ]
    }
   ],
   "source": [
    "x = 0\n",
    "while x < len(liste_2):\n",
    "    print(liste_2[x] ** 2)\n",
    "    x += 1"
   ]
  },
  {
   "cell_type": "code",
   "execution_count": 14,
   "metadata": {},
   "outputs": [
    {
     "name": "stdout",
     "output_type": "stream",
     "text": [
      "1 sayisinin karesi:1\n",
      "2 sayisinin karesi:4\n",
      "3 sayisinin karesi:9\n",
      "4 sayisinin karesi:16\n",
      "5 sayisinin karesi:25\n"
     ]
    }
   ],
   "source": [
    "for i in (1, 2, 3, 4, 5):\n",
    "    print(f\"{i} sayisinin karesi:{i ** 2}\")\n"
   ]
  },
  {
   "cell_type": "code",
   "execution_count": 15,
   "metadata": {},
   "outputs": [
    {
     "name": "stdout",
     "output_type": "stream",
     "text": [
      "1 sayisinin karesi:1---2 sayisinin karesi:4---3 sayisinin karesi:9---4 sayisinin karesi:16---5 sayisinin karesi:25---"
     ]
    }
   ],
   "source": [
    "for i in (1, 2, 3, 4, 5):\n",
    "    print(f\"{i} sayisinin karesi:{i ** 2}\",end=\"---\")"
   ]
  },
  {
   "cell_type": "code",
   "execution_count": 13,
   "metadata": {},
   "outputs": [
    {
     "ename": "TypeError",
     "evalue": "'int' object is not iterable",
     "output_type": "error",
     "traceback": [
      "\u001b[1;31m---------------------------------------------------------------------------\u001b[0m",
      "\u001b[1;31mTypeError\u001b[0m                                 Traceback (most recent call last)",
      "Cell \u001b[1;32mIn[13], line 1\u001b[0m\n\u001b[1;32m----> 1\u001b[0m \u001b[38;5;28;43;01mfor\u001b[39;49;00m\u001b[43m \u001b[49m\u001b[43mi\u001b[49m\u001b[43m \u001b[49m\u001b[38;5;129;43;01min\u001b[39;49;00m\u001b[43m \u001b[49m\u001b[38;5;241;43m1543\u001b[39;49m\u001b[43m:\u001b[49m\u001b[43m \u001b[49m\u001b[38;5;66;43;03m# int lar iterable olmadigi icin for dongusu calismaz\u001b[39;49;00m\n\u001b[0;32m      2\u001b[0m \u001b[43m    \u001b[49m\u001b[38;5;28;43mprint\u001b[39;49m\u001b[43m(\u001b[49m\u001b[43mi\u001b[49m\u001b[43m)\u001b[49m\n",
      "\u001b[1;31mTypeError\u001b[0m: 'int' object is not iterable"
     ]
    }
   ],
   "source": [
    "for i in 1543: # int lar iterable olmadigi icin for dongusu calismaz\n",
    "    print(i)"
   ]
  },
  {
   "cell_type": "code",
   "execution_count": 16,
   "metadata": {},
   "outputs": [],
   "source": [
    "isimler_listesi = [\"irem\", \"cihan\", \"bahar\", \"metehan\"]"
   ]
  },
  {
   "cell_type": "code",
   "execution_count": 17,
   "metadata": {},
   "outputs": [
    {
     "name": "stdout",
     "output_type": "stream",
     "text": [
      "Irem\n",
      "Cihan\n",
      "Bahar\n",
      "Metehan\n"
     ]
    }
   ],
   "source": [
    "for i in isimler_listesi:\n",
    "    print(i.capitalize())"
   ]
  },
  {
   "cell_type": "code",
   "execution_count": 18,
   "metadata": {},
   "outputs": [
    {
     "data": {
      "text/plain": [
       "['irem', 'cihan', 'bahar', 'metehan']"
      ]
     },
     "execution_count": 18,
     "metadata": {},
     "output_type": "execute_result"
    }
   ],
   "source": [
    "isimler_listesi"
   ]
  },
  {
   "cell_type": "code",
   "execution_count": null,
   "metadata": {},
   "outputs": [],
   "source": [
    "\"Techpro\"\n",
    "\"T-e-c-h-p-r-o\""
   ]
  },
  {
   "cell_type": "code",
   "execution_count": 19,
   "metadata": {},
   "outputs": [
    {
     "name": "stdout",
     "output_type": "stream",
     "text": [
      "T-e-c-h-p-r-o-"
     ]
    }
   ],
   "source": [
    "for i in\"Techpro\":\n",
    "    print(i,end=\"-\")"
   ]
  },
  {
   "cell_type": "code",
   "execution_count": null,
   "metadata": {},
   "outputs": [
    {
     "ename": "",
     "evalue": "",
     "output_type": "error",
     "traceback": [
      "\u001b[1;31mFailed to start the Kernel. \n",
      "\u001b[1;31mUnable to start Kernel 'Python 3.11.8' due to a connection timeout. \n",
      "\u001b[1;31mView Jupyter <a href='command:jupyter.viewOutput'>log</a> for further details."
     ]
    }
   ],
   "source": [
    "empty_str = \"\"\n",
    "for i in \"Techpro\":\n",
    "    empty_str += i + \"-\"\n",
    "print(empty_str _str.rstrip(\"-\"))"
   ]
  },
  {
   "cell_type": "code",
   "execution_count": null,
   "metadata": {},
   "outputs": [],
   "source": [
    "dict_1 = {\"name\", \"dilek\", \"age\": 26, \"job\":\"data_scientist\"}"
   ]
  },
  {
   "cell_type": "code",
   "execution_count": 2,
   "metadata": {},
   "outputs": [
    {
     "ename": "SyntaxError",
     "evalue": "invalid syntax (1406601602.py, line 1)",
     "output_type": "error",
     "traceback": [
      "\u001b[1;36m  Cell \u001b[1;32mIn[2], line 1\u001b[1;36m\u001b[0m\n\u001b[1;33m    dict_1 = {\"name\", \"dilek\", \"age\": 26, \"job\": \"data_scientist\"}\u001b[0m\n\u001b[1;37m                                    ^\u001b[0m\n\u001b[1;31mSyntaxError\u001b[0m\u001b[1;31m:\u001b[0m invalid syntax\n"
     ]
    }
   ],
   "source": [
    "dict_1 = {\"name\", \"dilek\", \"age\": 26, \"job\": \"data_scientist\"}\n",
    "dict_1\n",
    "for i in dict_1:\n",
    "    print(i)"
   ]
  },
  {
   "cell_type": "code",
   "execution_count": null,
   "metadata": {},
   "outputs": [],
   "source": [
    "for i in dict_1.items():"
   ]
  },
  {
   "cell_type": "code",
   "execution_count": 3,
   "metadata": {},
   "outputs": [
    {
     "ename": "NameError",
     "evalue": "name 'dict_1' is not defined",
     "output_type": "error",
     "traceback": [
      "\u001b[1;31m---------------------------------------------------------------------------\u001b[0m",
      "\u001b[1;31mNameError\u001b[0m                                 Traceback (most recent call last)",
      "Cell \u001b[1;32mIn[3], line 1\u001b[0m\n\u001b[1;32m----> 1\u001b[0m \u001b[38;5;28;01mfor\u001b[39;00m i, j \u001b[38;5;129;01min\u001b[39;00m \u001b[43mdict_1\u001b[49m\u001b[38;5;241m.\u001b[39mitems():\n\u001b[0;32m      2\u001b[0m     \u001b[38;5;28mprint\u001b[39m(i, j, sep\u001b[38;5;241m=\u001b[39m\u001b[38;5;124m\"\u001b[39m\u001b[38;5;124m**\u001b[39m\u001b[38;5;124m\"\u001b[39m)\n",
      "\u001b[1;31mNameError\u001b[0m: name 'dict_1' is not defined"
     ]
    }
   ],
   "source": [
    "for i, j in dict_1.items():\n",
    "    print(i, j, sep=\"**\")"
   ]
  },
  {
   "cell_type": "code",
   "execution_count": null,
   "metadata": {},
   "outputs": [],
   "source": [
    "for i, j in "
   ]
  },
  {
   "cell_type": "code",
   "execution_count": null,
   "metadata": {},
   "outputs": [],
   "source": [
    "dict_2 = {\"name\": \"dilek\", \"surname\", }"
   ]
  },
  {
   "cell_type": "code",
   "execution_count": null,
   "metadata": {},
   "outputs": [],
   "source": [
    "for i, j in dict_2"
   ]
  },
  {
   "cell_type": "code",
   "execution_count": null,
   "metadata": {},
   "outputs": [],
   "source": [
    "for i,j in dict_2.items():\n",
    "    print(f\"key: {i:.10}, value: {j:^15}\")"
   ]
  },
  {
   "cell_type": "code",
   "execution_count": 4,
   "metadata": {},
   "outputs": [
    {
     "ename": "TypeError",
     "evalue": "'bool' object is not iterable",
     "output_type": "error",
     "traceback": [
      "\u001b[1;31m---------------------------------------------------------------------------\u001b[0m",
      "\u001b[1;31mTypeError\u001b[0m                                 Traceback (most recent call last)",
      "Cell \u001b[1;32mIn[4], line 1\u001b[0m\n\u001b[1;32m----> 1\u001b[0m \u001b[38;5;28;43;01mfor\u001b[39;49;00m\u001b[43m \u001b[49m\u001b[43mi\u001b[49m\u001b[43m \u001b[49m\u001b[38;5;129;43;01min\u001b[39;49;00m\u001b[43m \u001b[49m\u001b[38;5;28;43;01mTrue\u001b[39;49;00m\u001b[43m:\u001b[49m\n\u001b[0;32m      2\u001b[0m \u001b[43m    \u001b[49m\u001b[38;5;28;43mprint\u001b[39;49m\u001b[43m(\u001b[49m\u001b[43mi\u001b[49m\u001b[43m)\u001b[49m\n",
      "\u001b[1;31mTypeError\u001b[0m: 'bool' object is not iterable"
     ]
    }
   ],
   "source": [
    "for i in True:\n",
    "    print(i)"
   ]
  },
  {
   "cell_type": "code",
   "execution_count": null,
   "metadata": {},
   "outputs": [],
   "source": [
    "# calistirma sonsuz dongu\n",
    "liste = [\"sonsuz dongu\"]\n",
    "for i in liste:\n",
    "    print(i)\n",
    "    liste.append(5)"
   ]
  },
  {
   "cell_type": "code",
   "execution_count": 5,
   "metadata": {},
   "outputs": [
    {
     "data": {
      "text/plain": [
       "'      techpro       '"
      ]
     },
     "execution_count": 5,
     "metadata": {},
     "output_type": "execute_result"
    }
   ],
   "source": [
    "\"techpro\".center(20)"
   ]
  },
  {
   "cell_type": "code",
   "execution_count": 6,
   "metadata": {},
   "outputs": [
    {
     "data": {
      "text/plain": [
       "'             techpro'"
      ]
     },
     "execution_count": 6,
     "metadata": {},
     "output_type": "execute_result"
    }
   ],
   "source": [
    "\"techpro\".rjust(20)"
   ]
  },
  {
   "cell_type": "code",
   "execution_count": 9,
   "metadata": {},
   "outputs": [
    {
     "name": "stdout",
     "output_type": "stream",
     "text": [
      "1 hoca bize ceza verdi\n",
      "2 hoca bize ceza verdi\n",
      "3 hoca bize ceza verdi\n",
      "4 hoca bize ceza verdi\n",
      "5 hoca bize ceza verdi\n",
      "6 hoca bize ceza verdi\n",
      "7 hoca bize ceza verdi\n",
      "8 hoca bize ceza verdi\n",
      "9 hoca bize ceza verdi\n",
      "10 hoca bize ceza verdi\n",
      "11 hoca bize ceza verdi\n",
      "12 hoca bize ceza verdi\n",
      "13 hoca bize ceza verdi\n",
      "14 hoca bize ceza verdi\n",
      "15 hoca bize ceza verdi\n",
      "16 hoca bize ceza verdi\n",
      "17 hoca bize ceza verdi\n",
      "18 hoca bize ceza verdi\n",
      "19 hoca bize ceza verdi\n",
      "20 hoca bize ceza verdi\n",
      "21 hoca bize ceza verdi\n",
      "22 hoca bize ceza verdi\n",
      "23 hoca bize ceza verdi\n",
      "24 hoca bize ceza verdi\n",
      "25 hoca bize ceza verdi\n",
      "26 hoca bize ceza verdi\n",
      "27 hoca bize ceza verdi\n",
      "28 hoca bize ceza verdi\n",
      "29 hoca bize ceza verdi\n",
      "30 hoca bize ceza verdi\n",
      "31 hoca bize ceza verdi\n",
      "32 hoca bize ceza verdi\n",
      "33 hoca bize ceza verdi\n",
      "34 hoca bize ceza verdi\n",
      "35 hoca bize ceza verdi\n",
      "36 hoca bize ceza verdi\n",
      "37 hoca bize ceza verdi\n",
      "38 hoca bize ceza verdi\n",
      "39 hoca bize ceza verdi\n",
      "40 hoca bize ceza verdi\n",
      "41 hoca bize ceza verdi\n",
      "42 hoca bize ceza verdi\n",
      "43 hoca bize ceza verdi\n",
      "44 hoca bize ceza verdi\n",
      "45 hoca bize ceza verdi\n",
      "46 hoca bize ceza verdi\n",
      "47 hoca bize ceza verdi\n",
      "48 hoca bize ceza verdi\n",
      "49 hoca bize ceza verdi\n",
      "50 hoca bize ceza verdi\n"
     ]
    }
   ],
   "source": [
    "string = [\"hoca bize ceza verdi\"]\n",
    "for i in range(1, 51):\n",
    "    print(i,\"hoca bize ceza verdi\")"
   ]
  },
  {
   "cell_type": "code",
   "execution_count": 10,
   "metadata": {},
   "outputs": [
    {
     "data": {
      "text/plain": [
       "[1, 2, 3, 4, 5, 6, 7, 8, 9, 10]"
      ]
     },
     "execution_count": 10,
     "metadata": {},
     "output_type": "execute_result"
    }
   ],
   "source": [
    "list(range(1,11))"
   ]
  },
  {
   "cell_type": "code",
   "execution_count": 12,
   "metadata": {},
   "outputs": [
    {
     "name": "stdout",
     "output_type": "stream",
     "text": [
      "1 - Hic kiyamam ki\n",
      "2 - Hic kiyamam ki\n",
      "3 - Hic kiyamam ki\n",
      "4 - Hic kiyamam ki\n",
      "5 - Hic kiyamam ki\n",
      "6 - Hic kiyamam ki\n",
      "7 - Hic kiyamam ki\n",
      "8 - Hic kiyamam ki\n",
      "9 - Hic kiyamam ki\n",
      "10- Hic kiyamam ki\n",
      "11- Hic kiyamam ki\n",
      "12- Hic kiyamam ki\n",
      "13- Hic kiyamam ki\n",
      "14- Hic kiyamam ki\n",
      "15- Hic kiyamam ki\n",
      "16- Hic kiyamam ki\n",
      "17- Hic kiyamam ki\n",
      "18- Hic kiyamam ki\n",
      "19- Hic kiyamam ki\n",
      "20- Hic kiyamam ki\n",
      "21- Hic kiyamam ki\n",
      "22- Hic kiyamam ki\n",
      "23- Hic kiyamam ki\n",
      "24- Hic kiyamam ki\n",
      "25- Hic kiyamam ki\n",
      "26- Hic kiyamam ki\n",
      "27- Hic kiyamam ki\n",
      "28- Hic kiyamam ki\n",
      "29- Hic kiyamam ki\n",
      "30- Hic kiyamam ki\n",
      "31- Hic kiyamam ki\n",
      "32- Hic kiyamam ki\n",
      "33- Hic kiyamam ki\n",
      "34- Hic kiyamam ki\n",
      "35- Hic kiyamam ki\n",
      "36- Hic kiyamam ki\n",
      "37- Hic kiyamam ki\n",
      "38- Hic kiyamam ki\n",
      "39- Hic kiyamam ki\n",
      "40- Hic kiyamam ki\n",
      "41- Hic kiyamam ki\n",
      "42- Hic kiyamam ki\n",
      "43- Hic kiyamam ki\n",
      "44- Hic kiyamam ki\n",
      "45- Hic kiyamam ki\n",
      "46- Hic kiyamam ki\n",
      "47- Hic kiyamam ki\n",
      "48- Hic kiyamam ki\n",
      "49- Hic kiyamam ki\n",
      "50- Hic kiyamam ki\n"
     ]
    }
   ],
   "source": [
    "for i in range(1,51):\n",
    "    print(f\"{i:<2}- Hic kiyamam ki\")"
   ]
  },
  {
   "cell_type": "code",
   "execution_count": null,
   "metadata": {},
   "outputs": [],
   "source": []
  }
 ],
 "metadata": {
  "kernelspec": {
   "display_name": "Python 3",
   "language": "python",
   "name": "python3"
  },
  "language_info": {
   "codemirror_mode": {
    "name": "ipython",
    "version": 3
   },
   "file_extension": ".py",
   "mimetype": "text/x-python",
   "name": "python",
   "nbconvert_exporter": "python",
   "pygments_lexer": "ipython3",
   "version": "3.11.8"
  }
 },
 "nbformat": 4,
 "nbformat_minor": 2
}
