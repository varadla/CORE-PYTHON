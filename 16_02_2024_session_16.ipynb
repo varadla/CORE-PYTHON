{
 "cells": [
  {
   "cell_type": "markdown",
   "metadata": {},
   "source": [
    "Odev1: Kullanicidan 1(dahil) ve 9(dahil)arasinda bir sayi isteyin.bu sayini carpim tablosunu olusturun."
   ]
  },
  {
   "cell_type": "code",
   "execution_count": 2,
   "metadata": {},
   "outputs": [
    {
     "name": "stdout",
     "output_type": "stream",
     "text": [
      "8 x 1  = 8\n",
      "8 x 2  = 16\n",
      "8 x 3  = 24\n",
      "8 x 4  = 32\n",
      "8 x 5  = 40\n",
      "8 x 6  = 48\n",
      "8 x 7  = 56\n",
      "8 x 8  = 64\n",
      "8 x 9  = 72\n",
      "8 x 10 = 80\n"
     ]
    }
   ],
   "source": [
    "number = int(input(\"bir sayi girin.1 ve 9 arasinda\"))\n",
    "if 1 <= number <= 9:\n",
    "    for i in range(1,11):\n",
    "        print(f\"{number} x {i:<2} = {number * i}\")\n",
    "else:\n",
    "    print(\"girdiginiz sayi 1 ile 9 arasinda degil\")"
   ]
  },
  {
   "cell_type": "code",
   "execution_count": 3,
   "metadata": {},
   "outputs": [
    {
     "name": "stdout",
     "output_type": "stream",
     "text": [
      "4 x 1  = 4\n",
      "4 x 2  = 8\n",
      "4 x 3  = 12\n",
      "4 x 4  = 16\n",
      "4 x 5  = 20\n",
      "4 x 6  = 24\n",
      "4 x 7  = 28\n",
      "4 x 8  = 32\n",
      "4 x 9  = 36\n",
      "4 x 10 = 40\n"
     ]
    }
   ],
   "source": [
    "number = int(input(\"bir sayi girin.1 ve 9 arasinda\"))\n",
    "if 1 <= number <= 9:\n",
    "    for i in range(1,11):\n",
    "        carpim = number * 1\n",
    "        print(f\"{number} x {i:<2} = {number * i}\")\n",
    "else:\n",
    "    print(\"girdiginiz sayi 1 ile 9 arasinda degil\")"
   ]
  },
  {
   "cell_type": "markdown",
   "metadata": {},
   "source": [
    "Odev2: Kullanicidan 1(dahil) ve 9(dahil)arasinda bir sayi isteyin.bu sayini carpim tablosunu olusturun.kullanici bu araliktan farkli bir degergirdiyse tekrar dogru girmesini isteyin."
   ]
  },
  {
   "cell_type": "code",
   "execution_count": 8,
   "metadata": {},
   "outputs": [
    {
     "name": "stdout",
     "output_type": "stream",
     "text": [
      "girdiginiz sayi 1 ile 9 arasinda degil.Tekrar sayi girin\n",
      "girdiginiz sayi 1 ile 9 arasinda degil.Tekrar sayi girin\n",
      "7 x 1  = 7\n",
      "7 x 2  = 14\n",
      "7 x 3  = 21\n",
      "7 x 4  = 28\n",
      "7 x 5  = 35\n",
      "7 x 6  = 42\n",
      "7 x 7  = 49\n",
      "7 x 8  = 56\n",
      "7 x 9  = 63\n",
      "7 x 10 = 70\n"
     ]
    }
   ],
   "source": [
    "\n",
    "while True:\n",
    "  number = int(input(\"bir sayi girin.1 ve 9 arasinda\"))\n",
    "  if 1 <= number <= 9:\n",
    "        for i in range(1,11):\n",
    "            print(f\"{number} x {i:<2} = {number * i}\")\n",
    "        break\n",
    "  else:\n",
    "        print(\"girdiginiz sayi 1 ile 9 arasinda degil.Tekrar sayi girin\")"
   ]
  },
  {
   "cell_type": "code",
   "execution_count": 14,
   "metadata": {},
   "outputs": [
    {
     "name": "stdout",
     "output_type": "stream",
     "text": [
      "8 x 1  = 8\n",
      "8 x 2  = 16\n",
      "8 x 3  = 24\n",
      "8 x 4  = 32\n",
      "8 x 5  = 40\n",
      "8 x 6  = 48\n",
      "8 x 7  = 56\n",
      "8 x 8  = 64\n",
      "8 x 9  = 72\n",
      "8 x 10 = 80\n"
     ]
    }
   ],
   "source": [
    "#ödev 2 çözüm 3 deneme hakı = 3\n",
    "\n",
    "sayaç = 0\n",
    "\n",
    "while True:\n",
    "\n",
    "    number = int(input(\"bir sayi girin.1 ve 9 arasinda\"))\n",
    "\n",
    "    sayaç += 1\n",
    "\n",
    "    if 1 <= number <= 9:\n",
    "\n",
    "        break\n",
    "\n",
    "    else:\n",
    "        print(\"girdiğiniz sayi 1 ile 9 arasinda değil. Tekrar sayi girin.\")\n",
    "\n",
    "    if sayaç == 3:\n",
    "        break\n",
    "\n",
    "for i in [1,2,3,4,5,6,7,8,9,10]:\n",
    "\n",
    "    print(f\"{number} x {i:<2} = {number * i}\")"
   ]
  },
  {
   "cell_type": "code",
   "execution_count": 15,
   "metadata": {},
   "outputs": [
    {
     "name": "stdout",
     "output_type": "stream",
     "text": [
      "girdiğiniz sayi 1 ile 9 arasinda değil. Tekrar sayi girin.\n",
      "3 x 1  = 3\n",
      "3 x 2  = 6\n",
      "3 x 3  = 9\n",
      "3 x 4  = 12\n",
      "3 x 5  = 15\n",
      "3 x 6  = 18\n",
      "3 x 7  = 21\n",
      "3 x 8  = 24\n",
      "3 x 9  = 27\n",
      "3 x 10 = 30\n"
     ]
    }
   ],
   "source": [
    "#ödev 2 çözüm 2\n",
    "while True:\n",
    "\n",
    "    number = int(input(\"bir sayi girin.1 ve 9 arasinda\"))\n",
    "\n",
    "    if 1 <= number <= 9:\n",
    "\n",
    "        break\n",
    "\n",
    "    else:\n",
    "        print(\"girdiğiniz sayi 1 ile 9 arasinda değil. Tekrar sayi girin.\")\n",
    "\n",
    "for i in range(1,11):\n",
    "\n",
    "    print(f\"{number} x {i:<2} = {number * i}\")"
   ]
  },
  {
   "cell_type": "code",
   "execution_count": 16,
   "metadata": {},
   "outputs": [
    {
     "ename": "SyntaxError",
     "evalue": "invalid syntax (3844849613.py, line 1)",
     "output_type": "error",
     "traceback": [
      "\u001b[1;36m  Cell \u001b[1;32mIn[16], line 1\u001b[1;36m\u001b[0m\n\u001b[1;33m    1 den 50(50 dahil) sayilarin toplamini bulan kodu yazin.\u001b[0m\n\u001b[1;37m      ^\u001b[0m\n\u001b[1;31mSyntaxError\u001b[0m\u001b[1;31m:\u001b[0m invalid syntax\n"
     ]
    }
   ],
   "source": [
    "1 den 50(50 dahil) sayilarin toplamini bulan kodu yazin.\n",
    "\n"
   ]
  },
  {
   "cell_type": "code",
   "execution_count": 17,
   "metadata": {},
   "outputs": [
    {
     "name": "stdout",
     "output_type": "stream",
     "text": [
      "1\n",
      "3\n",
      "6\n",
      "10\n",
      "15\n",
      "21\n",
      "28\n",
      "36\n",
      "45\n",
      "55\n",
      "66\n",
      "78\n",
      "91\n",
      "105\n",
      "120\n",
      "136\n",
      "153\n",
      "171\n",
      "190\n",
      "210\n",
      "231\n",
      "253\n",
      "276\n",
      "300\n",
      "325\n",
      "351\n",
      "378\n",
      "406\n",
      "435\n",
      "465\n",
      "496\n",
      "528\n",
      "561\n",
      "595\n",
      "630\n",
      "666\n",
      "703\n",
      "741\n",
      "780\n",
      "820\n",
      "861\n",
      "903\n",
      "946\n",
      "990\n",
      "1035\n",
      "1081\n",
      "1128\n",
      "1176\n",
      "1225\n",
      "1275\n"
     ]
    }
   ],
   "source": [
    "sayilarin_toplami = 0\n",
    "for i in range(1,51):\n",
    "    sayilarin_toplami += i\n",
    "    print(sayilarin_toplami)\n",
    "\n"
   ]
  },
  {
   "cell_type": "code",
   "execution_count": 18,
   "metadata": {},
   "outputs": [
    {
     "data": {
      "text/plain": [
       "1275.0"
      ]
     },
     "execution_count": 18,
     "metadata": {},
     "output_type": "execute_result"
    }
   ],
   "source": [
    "50 * 51 / 2"
   ]
  },
  {
   "cell_type": "code",
   "execution_count": 19,
   "metadata": {},
   "outputs": [
    {
     "data": {
      "text/plain": [
       "1275"
      ]
     },
     "execution_count": 19,
     "metadata": {},
     "output_type": "execute_result"
    }
   ],
   "source": [
    "sum(range(1,51))"
   ]
  },
  {
   "cell_type": "code",
   "execution_count": 21,
   "metadata": {},
   "outputs": [
    {
     "data": {
      "text/plain": [
       "15"
      ]
     },
     "execution_count": 21,
     "metadata": {},
     "output_type": "execute_result"
    }
   ],
   "source": [
    "sum([1,2,3,4,5])"
   ]
  },
  {
   "cell_type": "code",
   "execution_count": 22,
   "metadata": {},
   "outputs": [
    {
     "data": {
      "text/plain": [
       "15"
      ]
     },
     "execution_count": 22,
     "metadata": {},
     "output_type": "execute_result"
    }
   ],
   "source": [
    "sum((1,2,3,4,5))"
   ]
  },
  {
   "cell_type": "code",
   "execution_count": 23,
   "metadata": {},
   "outputs": [
    {
     "data": {
      "text/plain": [
       "15"
      ]
     },
     "execution_count": 23,
     "metadata": {},
     "output_type": "execute_result"
    }
   ],
   "source": [
    "sum({1,2,3,4,5})"
   ]
  },
  {
   "cell_type": "code",
   "execution_count": 24,
   "metadata": {},
   "outputs": [
    {
     "ename": "TypeError",
     "evalue": "unsupported operand type(s) for +: 'int' and 'str'",
     "output_type": "error",
     "traceback": [
      "\u001b[1;31m---------------------------------------------------------------------------\u001b[0m",
      "\u001b[1;31mTypeError\u001b[0m                                 Traceback (most recent call last)",
      "Cell \u001b[1;32mIn[24], line 1\u001b[0m\n\u001b[1;32m----> 1\u001b[0m \u001b[38;5;28;43msum\u001b[39;49m\u001b[43m(\u001b[49m\u001b[43m[\u001b[49m\u001b[38;5;124;43m\"\u001b[39;49m\u001b[38;5;124;43ma\u001b[39;49m\u001b[38;5;124;43m\"\u001b[39;49m\u001b[43m,\u001b[49m\u001b[38;5;124;43m\"\u001b[39;49m\u001b[38;5;124;43mb\u001b[39;49m\u001b[38;5;124;43m\"\u001b[39;49m\u001b[43m]\u001b[49m\u001b[43m)\u001b[49m\n",
      "\u001b[1;31mTypeError\u001b[0m: unsupported operand type(s) for +: 'int' and 'str'"
     ]
    }
   ],
   "source": [
    "sum([\"a\",\"b\"])"
   ]
  },
  {
   "cell_type": "code",
   "execution_count": 25,
   "metadata": {},
   "outputs": [
    {
     "data": {
      "text/plain": [
       "15.0"
      ]
     },
     "execution_count": 25,
     "metadata": {},
     "output_type": "execute_result"
    }
   ],
   "source": [
    "sum([True, 2, 3.0,4,5])"
   ]
  },
  {
   "cell_type": "code",
   "execution_count": 26,
   "metadata": {},
   "outputs": [
    {
     "data": {
      "text/plain": [
       "115.0"
      ]
     },
     "execution_count": 26,
     "metadata": {},
     "output_type": "execute_result"
    }
   ],
   "source": [
    "sum([True,2,3.0,4,5],100)"
   ]
  },
  {
   "cell_type": "code",
   "execution_count": 35,
   "metadata": {},
   "outputs": [
    {
     "name": "stdout",
     "output_type": "stream",
     "text": [
      "650\n"
     ]
    }
   ],
   "source": [
    "toplam = 0\n",
    "for i in range(2,51,2):\n",
    "    toplam += i\n",
    "print(toplam)"
   ]
  },
  {
   "cell_type": "code",
   "execution_count": 30,
   "metadata": {},
   "outputs": [
    {
     "name": "stdout",
     "output_type": "stream",
     "text": [
      "134217674\n"
     ]
    }
   ],
   "source": [
    "# yontem-1\n",
    "toplam = 0\n",
    "for i in range(2,51,2):\n",
    "    toplam += toplam + i\n",
    "print(toplam)"
   ]
  },
  {
   "cell_type": "code",
   "execution_count": 34,
   "metadata": {},
   "outputs": [
    {
     "name": "stdout",
     "output_type": "stream",
     "text": [
      "650\n"
     ]
    }
   ],
   "source": [
    "# yontem-2\n",
    "toplam = 0\n",
    "for i in range(1,51):\n",
    "    if i % 2 == 0:\n",
    "        toplam += i\n",
    "print(toplam)"
   ]
  },
  {
   "cell_type": "code",
   "execution_count": 33,
   "metadata": {},
   "outputs": [
    {
     "data": {
      "text/plain": [
       "650"
      ]
     },
     "execution_count": 33,
     "metadata": {},
     "output_type": "execute_result"
    }
   ],
   "source": [
    "# yontem-3\n",
    "sum(range(0,51,2))"
   ]
  },
  {
   "cell_type": "markdown",
   "metadata": {},
   "source": [
    "# break,continue"
   ]
  },
  {
   "cell_type": "code",
   "execution_count": 36,
   "metadata": {},
   "outputs": [
    {
     "data": {
      "text/plain": [
       "[1, 2, 3, 4, 5]"
      ]
     },
     "execution_count": 36,
     "metadata": {},
     "output_type": "execute_result"
    }
   ],
   "source": [
    "liste_1 = [1, 2, 3, 4, 5]\n",
    "liste_1"
   ]
  },
  {
   "cell_type": "code",
   "execution_count": 37,
   "metadata": {},
   "outputs": [
    {
     "name": "stdout",
     "output_type": "stream",
     "text": [
      "1\n",
      "4\n",
      "9\n",
      "16\n",
      "25\n"
     ]
    }
   ],
   "source": [
    "for i in liste_1:\n",
    "    print(i ** 2)"
   ]
  },
  {
   "cell_type": "code",
   "execution_count": 38,
   "metadata": {},
   "outputs": [
    {
     "name": "stdout",
     "output_type": "stream",
     "text": [
      "1\n",
      "4\n"
     ]
    }
   ],
   "source": [
    "#3 ve 3 kati sayiya denk geldiginde kod bitsin.Diger durumda sayilarin karesini yazdirsin.\n",
    "for i in liste_1:\n",
    "    if i % 3 == 0:\n",
    "        break\n",
    "    else:\n",
    "        print(i ** 2)"
   ]
  },
  {
   "cell_type": "code",
   "execution_count": 39,
   "metadata": {},
   "outputs": [
    {
     "name": "stdout",
     "output_type": "stream",
     "text": [
      "1\n",
      "4\n",
      "16\n",
      "25\n"
     ]
    }
   ],
   "source": [
    "#3 ve 3 kati sayiya denk geldiginde kod devam etsin ancak islem yapmasin.Diger durumda sayilarin karesini yazdirsin.\n",
    "for i in liste_1:\n",
    "    if i % 3 == 0:\n",
    "        continue\n",
    "    else:\n",
    "        print(i ** 2)"
   ]
  },
  {
   "cell_type": "code",
   "execution_count": 48,
   "metadata": {},
   "outputs": [
    {
     "name": "stdout",
     "output_type": "stream",
     "text": [
      "6500\n"
     ]
    }
   ],
   "source": [
    "#cift sayilarin toplami 1 ve 50 arasi\n",
    "# yontem-4\n",
    "for i in range(1,51):\n",
    "    if i % 2 == 1:\n",
    "        continue\n",
    "    else: \n",
    "        toplam += i\n",
    "print(toplam)"
   ]
  },
  {
   "cell_type": "markdown",
   "metadata": {},
   "source": [
    "# zip()"
   ]
  },
  {
   "cell_type": "code",
   "execution_count": 49,
   "metadata": {},
   "outputs": [],
   "source": [
    "a = [\"apple\", \"orange\", \"lemon\"]\n",
    "b = [1,2,3]"
   ]
  },
  {
   "cell_type": "code",
   "execution_count": 50,
   "metadata": {},
   "outputs": [
    {
     "data": {
      "text/plain": [
       "<zip at 0x230aa6e8e00>"
      ]
     },
     "execution_count": 50,
     "metadata": {},
     "output_type": "execute_result"
    }
   ],
   "source": [
    "zip(a,b)"
   ]
  },
  {
   "cell_type": "code",
   "execution_count": 52,
   "metadata": {},
   "outputs": [
    {
     "data": {
      "text/plain": [
       "[('apple', 1), ('orange', 2), ('lemon', 3)]"
      ]
     },
     "execution_count": 52,
     "metadata": {},
     "output_type": "execute_result"
    }
   ],
   "source": [
    "list(zip(a,b))"
   ]
  },
  {
   "cell_type": "code",
   "execution_count": 55,
   "metadata": {},
   "outputs": [
    {
     "data": {
      "text/plain": [
       "[(1, 'apple'), (2, 'orange'), (3, 'lemon')]"
      ]
     },
     "execution_count": 55,
     "metadata": {},
     "output_type": "execute_result"
    }
   ],
   "source": [
    "list(zip(b,a))"
   ]
  },
  {
   "cell_type": "code",
   "execution_count": 53,
   "metadata": {},
   "outputs": [],
   "source": [
    "x = \"Techpro\"\n",
    "y = \"Cihan\"\n",
    "z = \"Ayse\""
   ]
  },
  {
   "cell_type": "code",
   "execution_count": 54,
   "metadata": {},
   "outputs": [
    {
     "data": {
      "text/plain": [
       "[('T', 'C', 'A'), ('e', 'i', 'y'), ('c', 'h', 's'), ('h', 'a', 'e')]"
      ]
     },
     "execution_count": 54,
     "metadata": {},
     "output_type": "execute_result"
    }
   ],
   "source": [
    "list(zip(x,y,z))"
   ]
  },
  {
   "cell_type": "code",
   "execution_count": 56,
   "metadata": {},
   "outputs": [
    {
     "data": {
      "text/plain": [
       "{'apple': 1, 'orange': 2, 'lemon': 3}"
      ]
     },
     "execution_count": 56,
     "metadata": {},
     "output_type": "execute_result"
    }
   ],
   "source": [
    "dict(zip(a,b))"
   ]
  },
  {
   "cell_type": "code",
   "execution_count": 57,
   "metadata": {},
   "outputs": [],
   "source": [
    "meyveler = [\"apple\", \"orange\", \"apple\"]\n",
    "adet = [1,2,3]"
   ]
  },
  {
   "cell_type": "code",
   "execution_count": 58,
   "metadata": {},
   "outputs": [
    {
     "data": {
      "text/plain": [
       "{'apple': 3, 'orange': 2}"
      ]
     },
     "execution_count": 58,
     "metadata": {},
     "output_type": "execute_result"
    }
   ],
   "source": [
    "dict(zip(meyveler,adet))"
   ]
  },
  {
   "cell_type": "code",
   "execution_count": 77,
   "metadata": {},
   "outputs": [],
   "source": [
    "name = ([\"irem\", \"betul\", \"Tulay\"])\n",
    "age = [25,26,27]\n",
    "job = [\"data_scientist\", \"puthon_developer\",\"data_analyst\"]"
   ]
  },
  {
   "cell_type": "code",
   "execution_count": 78,
   "metadata": {},
   "outputs": [
    {
     "data": {
      "text/plain": [
       "[('irem', 25, 'data_scientist'),\n",
       " ('betul', 26, 'puthon_developer'),\n",
       " ('Tulay', 27, 'data_analyst')]"
      ]
     },
     "execution_count": 78,
     "metadata": {},
     "output_type": "execute_result"
    }
   ],
   "source": [
    "list(zip(name,age,job))"
   ]
  },
  {
   "cell_type": "code",
   "execution_count": 79,
   "metadata": {},
   "outputs": [
    {
     "name": "stdout",
     "output_type": "stream",
     "text": [
      "('irem', 25, 'data_scientist')\n",
      "('betul', 26, 'puthon_developer')\n",
      "('Tulay', 27, 'data_analyst')\n"
     ]
    }
   ],
   "source": [
    "for item in zip(name,age,job):\n",
    "    print(item)"
   ]
  },
  {
   "cell_type": "code",
   "execution_count": 80,
   "metadata": {},
   "outputs": [
    {
     "name": "stdout",
     "output_type": "stream",
     "text": [
      "name: irem  , age25, job: data_scientist\n",
      "name: betul , age26, job: puthon_developer\n",
      "name: Tulay , age27, job: data_analyst\n"
     ]
    }
   ],
   "source": [
    "for i, j, k in zip(name,age,job):\n",
    "     print(f\"name: {i:<6}, age{j}, job: {k}\")"
   ]
  },
  {
   "cell_type": "code",
   "execution_count": 81,
   "metadata": {},
   "outputs": [
    {
     "ename": "AttributeError",
     "evalue": "'list' object has no attribute 'job'",
     "output_type": "error",
     "traceback": [
      "\u001b[1;31m---------------------------------------------------------------------------\u001b[0m",
      "\u001b[1;31mAttributeError\u001b[0m                            Traceback (most recent call last)",
      "Cell \u001b[1;32mIn[81], line 1\u001b[0m\n\u001b[1;32m----> 1\u001b[0m \u001b[38;5;28;01mfor\u001b[39;00m i, j \u001b[38;5;129;01min\u001b[39;00m \u001b[38;5;28mzip\u001b[39m(name,\u001b[43mage\u001b[49m\u001b[38;5;241;43m.\u001b[39;49m\u001b[43mjob\u001b[49m):\n\u001b[0;32m      2\u001b[0m     \u001b[38;5;28mprint\u001b[39m(\u001b[38;5;124mf\u001b[39m\u001b[38;5;124m\"\u001b[39m\u001b[38;5;124mname: \u001b[39m\u001b[38;5;132;01m{\u001b[39;00mi\u001b[38;5;132;01m:\u001b[39;00m\u001b[38;5;124m<6\u001b[39m\u001b[38;5;132;01m}\u001b[39;00m\u001b[38;5;124m, age: \u001b[39m\u001b[38;5;132;01m{\u001b[39;00mj\u001b[38;5;132;01m}\u001b[39;00m\u001b[38;5;124m\"\u001b[39m)\n",
      "\u001b[1;31mAttributeError\u001b[0m: 'list' object has no attribute 'job'"
     ]
    }
   ],
   "source": [
    "for i, j in zip(name,age.job):\n",
    "    print(f\"name: {i:<6}, age: {j}\")"
   ]
  },
  {
   "cell_type": "code",
   "execution_count": 87,
   "metadata": {},
   "outputs": [
    {
     "name": "stdout",
     "output_type": "stream",
     "text": [
      "list[['irem', 'betul', 'Tulay'], [25, 26, 27], ['data_scientist', 'puthon_developer', 'data_analyst']]\n"
     ]
    }
   ],
   "source": [
    "print(list[name,age,job])"
   ]
  },
  {
   "cell_type": "code",
   "execution_count": 89,
   "metadata": {},
   "outputs": [
    {
     "name": "stdout",
     "output_type": "stream",
     "text": [
      "name: irem  , age: 25\n",
      "name: betul , age: 26\n",
      "name: Tulay , age: 27\n"
     ]
    }
   ],
   "source": [
    "for i, j, k in zip(name,age,job):\n",
    "    print(f\"name: {i:<6}, age: {j}\")"
   ]
  },
  {
   "cell_type": "code",
   "execution_count": 90,
   "metadata": {},
   "outputs": [
    {
     "name": "stdout",
     "output_type": "stream",
     "text": [
      "Degiskene ihtiyacim yok\n",
      "Degiskene ihtiyacim yok\n",
      "Degiskene ihtiyacim yok\n",
      "Degiskene ihtiyacim yok\n",
      "Degiskene ihtiyacim yok\n",
      "Degiskene ihtiyacim yok\n",
      "Degiskene ihtiyacim yok\n",
      "Degiskene ihtiyacim yok\n",
      "Degiskene ihtiyacim yok\n",
      "Degiskene ihtiyacim yok\n"
     ]
    }
   ],
   "source": [
    "for i in range(1,11):\n",
    "    print(\"Degiskene ihtiyacim yok\")"
   ]
  },
  {
   "cell_type": "markdown",
   "metadata": {},
   "source": [
    "## enumarate()"
   ]
  },
  {
   "cell_type": "code",
   "execution_count": 91,
   "metadata": {},
   "outputs": [
    {
     "data": {
      "text/plain": [
       "['irem', 'betul', 'Tulay']"
      ]
     },
     "execution_count": 91,
     "metadata": {},
     "output_type": "execute_result"
    }
   ],
   "source": [
    "name"
   ]
  },
  {
   "cell_type": "code",
   "execution_count": 92,
   "metadata": {},
   "outputs": [
    {
     "data": {
      "text/plain": [
       "<enumerate at 0x230aa6acf40>"
      ]
     },
     "execution_count": 92,
     "metadata": {},
     "output_type": "execute_result"
    }
   ],
   "source": [
    "enumerate(name)"
   ]
  },
  {
   "cell_type": "code",
   "execution_count": 93,
   "metadata": {},
   "outputs": [
    {
     "data": {
      "text/plain": [
       "[(0, 'irem'), (1, 'betul'), (2, 'Tulay')]"
      ]
     },
     "execution_count": 93,
     "metadata": {},
     "output_type": "execute_result"
    }
   ],
   "source": [
    "list(enumerate(name))"
   ]
  },
  {
   "cell_type": "code",
   "execution_count": 94,
   "metadata": {},
   "outputs": [
    {
     "data": {
      "text/plain": [
       "[(100, 'irem'), (101, 'betul'), (102, 'Tulay')]"
      ]
     },
     "execution_count": 94,
     "metadata": {},
     "output_type": "execute_result"
    }
   ],
   "source": [
    "list(enumerate(name, 100))"
   ]
  },
  {
   "cell_type": "code",
   "execution_count": 101,
   "metadata": {},
   "outputs": [],
   "source": [
    "number_liste = [48, 10, 11, 21, 36, 5, 6, 52, 28, 29,\n",
    "       53, 54, 45, 19, 20, 47, 55, 39, 41, 7,\n",
    "       9, 17, 26, 27, 42, 22, 37, 51, 46, 18,\n",
    "       44, 30, 34, 13, 15, 35, 33, 16, 50, 24]\n",
    "# listenin min ve max degerleri arasinda ki kayip sayilari bulun"
   ]
  },
  {
   "cell_type": "code",
   "execution_count": 111,
   "metadata": {},
   "outputs": [
    {
     "ename": "SyntaxError",
     "evalue": "invalid syntax. Perhaps you forgot a comma? (2921180184.py, line 4)",
     "output_type": "error",
     "traceback": [
      "\u001b[1;36m  Cell \u001b[1;32mIn[111], line 4\u001b[1;36m\u001b[0m\n\u001b[1;33m    kayip_sayilar = list((tum_sayilar) set(number_liste))\u001b[0m\n\u001b[1;37m                          ^\u001b[0m\n\u001b[1;31mSyntaxError\u001b[0m\u001b[1;31m:\u001b[0m invalid syntax. Perhaps you forgot a comma?\n"
     ]
    }
   ],
   "source": [
    "min_deger = min(number_liste)\n",
    "max_deger = max(number_liste)\n",
    "tum_sayilar = set(range(min_deger, max_deger + 1))\n",
    "kayip_sayilar = list((tum_sayilar) set(number_liste))\n",
    "print(\"Minimum :\", min_deger)\n",
    "print(\"Maksimum deger :\", max_deger)\n",
    "print(\"Kayip sayilar:\", kayip_sayilar)"
   ]
  },
  {
   "cell_type": "code",
   "execution_count": null,
   "metadata": {},
   "outputs": [],
   "source": []
  },
  {
   "cell_type": "code",
   "execution_count": null,
   "metadata": {},
   "outputs": [],
   "source": []
  },
  {
   "cell_type": "code",
   "execution_count": null,
   "metadata": {},
   "outputs": [],
   "source": []
  },
  {
   "cell_type": "code",
   "execution_count": null,
   "metadata": {},
   "outputs": [],
   "source": []
  },
  {
   "cell_type": "code",
   "execution_count": 103,
   "metadata": {},
   "outputs": [
    {
     "name": "stdout",
     "output_type": "stream",
     "text": [
      "[8, 12, 14, 23, 25, 31, 32, 38, 40, 43, 49]\n"
     ]
    }
   ],
   "source": [
    "# cozum-1\n",
    "kayip_sayilar = []\n",
    "for i in range(min(number_list),max(number_list)):\n",
    "    if i not in number_list:\n",
    "        kayip_sayilar.append(i)\n",
    "print(kayip_sayilar)"
   ]
  },
  {
   "cell_type": "code",
   "execution_count": 104,
   "metadata": {},
   "outputs": [
    {
     "name": "stdout",
     "output_type": "stream",
     "text": [
      "[8, 12, 14, 23, 25, 31, 32, 38, 40, 43, 49]\n"
     ]
    }
   ],
   "source": [
    "# cozum-2\n",
    "kayip_sayilar = []\n",
    "for i in range(min(number_list),max(number_list)):\n",
    "    if i  in number_list:\n",
    "        continue\n",
    "    \n",
    "    kayip_sayilar.append(i)\n",
    "print(kayip_sayilar)"
   ]
  },
  {
   "cell_type": "code",
   "execution_count": 105,
   "metadata": {},
   "outputs": [
    {
     "data": {
      "text/plain": [
       "{8, 12, 14, 23, 25, 31, 32, 38, 40, 43, 49}"
      ]
     },
     "execution_count": 105,
     "metadata": {},
     "output_type": "execute_result"
    }
   ],
   "source": [
    "# cozum-3\n",
    "full_set = set(range(min(number_list),max(number_list)))\n",
    "number_set = set(number_list)\n",
    "full_set - number_set"
   ]
  }
 ],
 "metadata": {
  "kernelspec": {
   "display_name": "Python 3",
   "language": "python",
   "name": "python3"
  },
  "language_info": {
   "codemirror_mode": {
    "name": "ipython",
    "version": 3
   },
   "file_extension": ".py",
   "mimetype": "text/x-python",
   "name": "python",
   "nbconvert_exporter": "python",
   "pygments_lexer": "ipython3",
   "version": "3.11.8"
  }
 },
 "nbformat": 4,
 "nbformat_minor": 2
}
