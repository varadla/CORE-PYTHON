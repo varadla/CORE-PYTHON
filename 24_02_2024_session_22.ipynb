{
 "cells": [
  {
   "cell_type": "code",
   "execution_count": 3,
   "metadata": {},
   "outputs": [],
   "source": [
    "import my_module"
   ]
  },
  {
   "cell_type": "code",
   "execution_count": 4,
   "metadata": {},
   "outputs": [
    {
     "ename": "SyntaxError",
     "evalue": "unexpected character after line continuation character (2056431453.py, line 1)",
     "output_type": "error",
     "traceback": [
      "\u001b[1;36m  Cell \u001b[1;32mIn[4], line 1\u001b[1;36m\u001b[0m\n\u001b[1;33m    AppData\\Local\\Programs\\Python\\Pyyhon312\u001b[0m\n\u001b[1;37m            ^\u001b[0m\n\u001b[1;31mSyntaxError\u001b[0m\u001b[1;31m:\u001b[0m unexpected character after line continuation character\n"
     ]
    }
   ],
   "source": [
    "AppData\\Local\\Programs\\Python\\Pyyhon312"
   ]
  },
  {
   "cell_type": "code",
   "execution_count": 5,
   "metadata": {},
   "outputs": [],
   "source": [
    "import my_module"
   ]
  },
  {
   "cell_type": "code",
   "execution_count": 6,
   "metadata": {},
   "outputs": [],
   "source": [
    "from package_1 import my_module"
   ]
  },
  {
   "cell_type": "code",
   "execution_count": 19,
   "metadata": {},
   "outputs": [
    {
     "name": "stdout",
     "output_type": "stream",
     "text": [
      "3.141592653589793\n"
     ]
    }
   ],
   "source": [
    "import math\n",
    "print(math.pi)"
   ]
  },
  {
   "cell_type": "code",
   "execution_count": 20,
   "metadata": {},
   "outputs": [
    {
     "name": "stdout",
     "output_type": "stream",
     "text": [
      "Requirement already satisfied: pi in c:\\users\\safiy\\appdata\\local\\programs\\python\\python312\\lib\\site-packages (0.1.2)Note: you may need to restart the kernel to use updated packages.\n",
      "\n"
     ]
    },
    {
     "name": "stderr",
     "output_type": "stream",
     "text": [
      "\n",
      "[notice] A new release of pip is available: 23.2.1 -> 24.0\n",
      "[notice] To update, run: python.exe -m pip install --upgrade pip\n"
     ]
    }
   ],
   "source": [
    "%pip install pi"
   ]
  },
  {
   "cell_type": "code",
   "execution_count": 8,
   "metadata": {},
   "outputs": [
    {
     "data": {
      "text/plain": [
       "3.141592653589793"
      ]
     },
     "execution_count": 8,
     "metadata": {},
     "output_type": "execute_result"
    }
   ],
   "source": [
    "from math import pi\n",
    "\n",
    "\n",
    "pi"
   ]
  },
  {
   "cell_type": "code",
   "execution_count": 9,
   "metadata": {},
   "outputs": [
    {
     "name": "stdout",
     "output_type": "stream",
     "text": [
      "Note: you may need to restart the kernel to use updated packages.\n"
     ]
    },
    {
     "name": "stderr",
     "output_type": "stream",
     "text": [
      "ERROR: unknown command \"instal\" - maybe you meant \"install\"\n",
      "\n"
     ]
    }
   ],
   "source": [
    "pip instal math"
   ]
  },
  {
   "cell_type": "code",
   "execution_count": 10,
   "metadata": {},
   "outputs": [],
   "source": [
    "import math"
   ]
  },
  {
   "cell_type": "code",
   "execution_count": 11,
   "metadata": {},
   "outputs": [],
   "source": [
    "from math import pi,sqrt"
   ]
  },
  {
   "cell_type": "code",
   "execution_count": 50,
   "metadata": {},
   "outputs": [
    {
     "name": "stdout",
     "output_type": "stream",
     "text": [
      "Note: you may need to restart the kernel to use updated packages.\n"
     ]
    },
    {
     "name": "stderr",
     "output_type": "stream",
     "text": [
      "ERROR: Could not find a version that satisfies the requirement my_pi (from versions: none)\n",
      "ERROR: No matching distribution found for my_pi\n",
      "\n",
      "[notice] A new release of pip is available: 23.2.1 -> 24.0\n",
      "[notice] To update, run: python.exe -m pip install --upgrade pip\n"
     ]
    }
   ],
   "source": [
    "%pip install my_pi"
   ]
  },
  {
   "cell_type": "code",
   "execution_count": 25,
   "metadata": {},
   "outputs": [
    {
     "name": "stdout",
     "output_type": "stream",
     "text": [
      "Collecting sourceNote: you may need to restart the kernel to use updated packages.\n"
     ]
    },
    {
     "name": "stderr",
     "output_type": "stream",
     "text": [
      "\n",
      "[notice] A new release of pip is available: 23.2.1 -> 24.0\n",
      "[notice] To update, run: python.exe -m pip install --upgrade pip\n"
     ]
    },
    {
     "name": "stdout",
     "output_type": "stream",
     "text": [
      "\n",
      "  Downloading source-1.2.0.zip (921 bytes)\n",
      "  Installing build dependencies: started\n",
      "  Installing build dependencies: finished with status 'done'\n",
      "  Getting requirements to build wheel: started\n",
      "  Getting requirements to build wheel: finished with status 'done'\n",
      "  Preparing metadata (pyproject.toml): started\n",
      "  Preparing metadata (pyproject.toml): finished with status 'done'\n",
      "Building wheels for collected packages: source\n",
      "  Building wheel for source (pyproject.toml): started\n",
      "  Building wheel for source (pyproject.toml): finished with status 'done'\n",
      "  Created wheel for source: filename=source-1.2.0-py3-none-any.whl size=1342 sha256=0b702e7c678d7114712b762368ad5542c652612422c80663bc44b46b9206cdf9\n",
      "  Stored in directory: c:\\users\\safiy\\appdata\\local\\pip\\cache\\wheels\\ce\\80\\d3\\a3373fc64b4747cd521ce157c0b5bfca20495f67c509565197\n",
      "Successfully built source\n",
      "Installing collected packages: source\n",
      "Successfully installed source-1.2.0\n"
     ]
    }
   ],
   "source": [
    "%pip install source"
   ]
  },
  {
   "cell_type": "code",
   "execution_count": 28,
   "metadata": {},
   "outputs": [],
   "source": [
    "import source"
   ]
  },
  {
   "cell_type": "code",
   "execution_count": 30,
   "metadata": {},
   "outputs": [
    {
     "name": "stdout",
     "output_type": "stream",
     "text": [
      "Collecting path\n",
      "  Obtaining dependency information for path from https://files.pythonhosted.org/packages/0e/a8/68e6d2f261bc606d944fec81cbbb42d622d2d677359868ef4e9bdb7a6243/path-16.10.0-py3-none-any.whl.metadata\n",
      "  Downloading path-16.10.0-py3-none-any.whl.metadata (6.4 kB)\n",
      "Downloading path-16.10.0-py3-none-any.whl (25 kB)\n",
      "Installing collected packages: path\n",
      "Successfully installed path-16.10.0\n",
      "Note: you may need to restart the kernel to use updated packages.\n"
     ]
    },
    {
     "name": "stderr",
     "output_type": "stream",
     "text": [
      "\n",
      "[notice] A new release of pip is available: 23.2.1 -> 24.0\n",
      "[notice] To update, run: python.exe -m pip install --upgrade pip\n"
     ]
    }
   ],
   "source": [
    "%pip install path"
   ]
  },
  {
   "cell_type": "code",
   "execution_count": 31,
   "metadata": {},
   "outputs": [],
   "source": [
    "import path"
   ]
  },
  {
   "cell_type": "code",
   "execution_count": 51,
   "metadata": {},
   "outputs": [
    {
     "name": "stdout",
     "output_type": "stream",
     "text": [
      "Note: you may need to restart the kernel to use updated packages.\n"
     ]
    },
    {
     "name": "stderr",
     "output_type": "stream",
     "text": [
      "ERROR: Could not find a version that satisfies the requirement my_pi (from versions: none)\n",
      "ERROR: No matching distribution found for my_pi\n",
      "\n",
      "[notice] A new release of pip is available: 23.2.1 -> 24.0\n",
      "[notice] To update, run: python.exe -m pip install --upgrade pip\n"
     ]
    }
   ],
   "source": [
    "from psutil import virtual_memory\n",
    "\n",
    "\n",
    "\n",
    "%pip install my_pi"
   ]
  },
  {
   "cell_type": "code",
   "execution_count": 55,
   "metadata": {},
   "outputs": [
    {
     "name": "stdout",
     "output_type": "stream",
     "text": [
      "Note: you may need to restart the kernel to use updated packages.\n"
     ]
    },
    {
     "name": "stderr",
     "output_type": "stream",
     "text": [
      "\n",
      "Usage:   \n",
      "  c:\\Users\\safiy\\AppData\\Local\\Programs\\Python\\Python312\\python.exe -m pip install [options] <requirement specifier> [package-index-options] ...\n",
      "  c:\\Users\\safiy\\AppData\\Local\\Programs\\Python\\Python312\\python.exe -m pip install [options] -r <requirements file> [package-index-options] ...\n",
      "  c:\\Users\\safiy\\AppData\\Local\\Programs\\Python\\Python312\\python.exe -m pip install [options] [-e] <vcs project url> ...\n",
      "  c:\\Users\\safiy\\AppData\\Local\\Programs\\Python\\Python312\\python.exe -m pip install [options] [-e] <local project path> ...\n",
      "  c:\\Users\\safiy\\AppData\\Local\\Programs\\Python\\Python312\\python.exe -m pip install [options] <archive url/path> ...\n",
      "\n",
      "no such option: --upgrede\n"
     ]
    }
   ],
   "source": [
    "pip install --upgrede pi"
   ]
  },
  {
   "cell_type": "code",
   "execution_count": null,
   "metadata": {},
   "outputs": [],
   "source": []
  },
  {
   "cell_type": "code",
   "execution_count": 56,
   "metadata": {},
   "outputs": [
    {
     "ename": "ModuleNotFoundError",
     "evalue": "No module named 'my_pi'",
     "output_type": "error",
     "traceback": [
      "\u001b[1;31m---------------------------------------------------------------------------\u001b[0m",
      "\u001b[1;31mModuleNotFoundError\u001b[0m                       Traceback (most recent call last)",
      "Cell \u001b[1;32mIn[56], line 1\u001b[0m\n\u001b[1;32m----> 1\u001b[0m \u001b[38;5;28;01mimport\u001b[39;00m \u001b[38;5;21;01mmy_pi\u001b[39;00m \n",
      "\u001b[1;31mModuleNotFoundError\u001b[0m: No module named 'my_pi'"
     ]
    }
   ],
   "source": [
    "import my_pi "
   ]
  },
  {
   "cell_type": "code",
   "execution_count": null,
   "metadata": {},
   "outputs": [
    {
     "ename": "AttributeError",
     "evalue": "module 'package_1.my_module' has no attribute 'my_pi'",
     "output_type": "error",
     "traceback": [
      "\u001b[1;31m---------------------------------------------------------------------------\u001b[0m",
      "\u001b[1;31mAttributeError\u001b[0m                            Traceback (most recent call last)",
      "Cell \u001b[1;32mIn[31], line 1\u001b[0m\n\u001b[1;32m----> 1\u001b[0m \u001b[43mmy_module\u001b[49m\u001b[38;5;241;43m.\u001b[39;49m\u001b[43mmy_pi\u001b[49m\n",
      "\u001b[1;31mAttributeError\u001b[0m: module 'package_1.my_module' has no attribute 'my_pi'"
     ]
    }
   ],
   "source": [
    "my_module.my_pi\n"
   ]
  },
  {
   "cell_type": "code",
   "execution_count": 46,
   "metadata": {},
   "outputs": [
    {
     "ename": "AttributeError",
     "evalue": "module 'package_1.my_module' has no attribute 'pi'",
     "output_type": "error",
     "traceback": [
      "\u001b[1;31m---------------------------------------------------------------------------\u001b[0m",
      "\u001b[1;31mAttributeError\u001b[0m                            Traceback (most recent call last)",
      "Cell \u001b[1;32mIn[46], line 1\u001b[0m\n\u001b[1;32m----> 1\u001b[0m \u001b[43mmy_module\u001b[49m\u001b[38;5;241;43m.\u001b[39;49m\u001b[43mpi\u001b[49m\n",
      "\u001b[1;31mAttributeError\u001b[0m: module 'package_1.my_module' has no attribute 'pi'"
     ]
    }
   ],
   "source": [
    "my_module.pi"
   ]
  },
  {
   "cell_type": "code",
   "execution_count": 47,
   "metadata": {},
   "outputs": [
    {
     "ename": "AttributeError",
     "evalue": "module 'package_1.my_module' has no attribute 'pi'",
     "output_type": "error",
     "traceback": [
      "\u001b[1;31m---------------------------------------------------------------------------\u001b[0m",
      "\u001b[1;31mAttributeError\u001b[0m                            Traceback (most recent call last)",
      "Cell \u001b[1;32mIn[47], line 1\u001b[0m\n\u001b[1;32m----> 1\u001b[0m \u001b[43mmy_module\u001b[49m\u001b[38;5;241;43m.\u001b[39;49m\u001b[43mpi\u001b[49m\n",
      "\u001b[1;31mAttributeError\u001b[0m: module 'package_1.my_module' has no attribute 'pi'"
     ]
    }
   ],
   "source": [
    "my_module.pi"
   ]
  },
  {
   "cell_type": "code",
   "execution_count": 48,
   "metadata": {},
   "outputs": [
    {
     "name": "stdout",
     "output_type": "stream",
     "text": [
      "['c:\\\\Users\\\\safiy\\\\OneDrive\\\\Masaüstü\\\\B247-248-253', 'c:\\\\Users\\\\safiy\\\\AppData\\\\Local\\\\Programs\\\\Python\\\\Python312\\\\python312.zip', 'c:\\\\Users\\\\safiy\\\\AppData\\\\Local\\\\Programs\\\\Python\\\\Python312\\\\DLLs', 'c:\\\\Users\\\\safiy\\\\AppData\\\\Local\\\\Programs\\\\Python\\\\Python312\\\\Lib', 'c:\\\\Users\\\\safiy\\\\AppData\\\\Local\\\\Programs\\\\Python\\\\Python312', '', 'C:\\\\Users\\\\safiy\\\\AppData\\\\Roaming\\\\Python\\\\Python312\\\\site-packages', 'C:\\\\Users\\\\safiy\\\\AppData\\\\Roaming\\\\Python\\\\Python312\\\\site-packages\\\\win32', 'C:\\\\Users\\\\safiy\\\\AppData\\\\Roaming\\\\Python\\\\Python312\\\\site-packages\\\\win32\\\\lib', 'C:\\\\Users\\\\safiy\\\\AppData\\\\Roaming\\\\Python\\\\Python312\\\\site-packages\\\\Pythonwin', 'c:\\\\Users\\\\safiy\\\\AppData\\\\Local\\\\Programs\\\\Python\\\\Python312\\\\Lib\\\\site-packages']\n"
     ]
    }
   ],
   "source": [
    "import sys\n",
    "print(sys.path)"
   ]
  },
  {
   "cell_type": "code",
   "execution_count": 49,
   "metadata": {},
   "outputs": [
    {
     "name": "stdout",
     "output_type": "stream",
     "text": [
      "oyun bitti\n"
     ]
    }
   ],
   "source": [
    "a = input(\"taş kağit makas oynamak ister misin(yes or no)\").lower()\n",
    "\n",
    "import time\n",
    "import random\n",
    "pc_list = [\"t\", \"k\", \"m\"]\n",
    "\n",
    "while a == \"yes\":\n",
    "    \n",
    "    pc = pc_list[random.randint(0,2)]\n",
    "\n",
    "    time.sleep(1)\n",
    "    \n",
    "    you = input(\"birini seç: t: taş, m: makas, k: kağit\").lower()\n",
    "\n",
    "    if (pc == \"t\" and you == \"m\") or (pc == \"m\" and you == \"k\") or (pc == \"k\" and you == \"t\"):\n",
    "        print(\"kazanan bilgisayar\")\n",
    "    \n",
    "    elif (pc == \"m\" and you == \"t\") or (pc == \"k\" and you == \"m\") or (pc == \"t\" and you == \"k\"):\n",
    "        print(\"kazanan sensin\")\n",
    "\n",
    "    elif (pc == \"m\" and you == \"m\") or (pc == \"k\" and you == \"k\") or (pc == \"t\" and you == \"t\"):\n",
    "        print(\"berabere\")\n",
    "\n",
    "    else:\n",
    "        print(\"hatali giriş\")\n",
    "\n",
    "    time.sleep(1)\n",
    "\n",
    "    a = input(\"taş kağit makas oyununa devam etmek ister misin(yes or no)\").lower()\n",
    "print(\"oyun bitti\")"
   ]
  },
  {
   "cell_type": "code",
   "execution_count": null,
   "metadata": {},
   "outputs": [],
   "source": [
    "def tas_kagit_makas():\n",
    "    \n",
    "    \n",
    "    a = input(\"taş kağit makas oynamak ister misin(yes or no)\").lower()\n",
    "\n",
    "\n",
    "    import time\n",
    "    import random\n",
    "    pc_list = [\"t\", \"k\", \"m\"]\n",
    "\n",
    "    while a == \"yes\":\n",
    "        pc = pc_list[random.randint(0,2)]\n",
    "\n",
    "        time.sleep(1)\n",
    "    \n",
    "        you = input(\"birini seç: t: taş, m: makas, k: kağit\").lower()\n",
    "\n",
    "        if (pc == \"t\" and you == \"m\") or (pc == \"m\" and you == \"k\") or (pc == \"k\" and you == \"t\"):\n",
    "            print(\"kazanan bilgisayar\")\n",
    "    \n",
    "        elif (pc == \"m\" and you == \"t\") or (pc == \"k\" and you == \"m\") or (pc == \"t\" and you == \"k\"):\n",
    "            print(\"kazanan sensin\")\n",
    "\n",
    "        elif (pc == \"m\" and you == \"m\") or (pc == \"k\" and you == \"k\") or (pc == \"t\" and you == \"t\"):\n",
    "            print(\"berabere\")\n",
    "\n",
    "        else:\n",
    "            print(\"hatali giriş\")\n",
    "\n",
    "        time.sleep(1)\n",
    "\n",
    "        a = input(\"taş kağit makas oyununa devam etmek ister misin(yes or no)\").lower()\n",
    "\n",
    "    print(\"oyun bitti\")"
   ]
  },
  {
   "cell_type": "code",
   "execution_count": null,
   "metadata": {},
   "outputs": [],
   "source": [
    "tas_kagit_makas"
   ]
  },
  {
   "cell_type": "code",
   "execution_count": null,
   "metadata": {},
   "outputs": [],
   "source": [
    "import oyun"
   ]
  },
  {
   "cell_type": "code",
   "execution_count": null,
   "metadata": {},
   "outputs": [],
   "source": [
    "oyun.tas_kagit_makas()"
   ]
  },
  {
   "cell_type": "code",
   "execution_count": null,
   "metadata": {},
   "outputs": [],
   "source": [
    "git add "
   ]
  }
 ],
 "metadata": {
  "kernelspec": {
   "display_name": "Python 3",
   "language": "python",
   "name": "python3"
  },
  "language_info": {
   "codemirror_mode": {
    "name": "ipython",
    "version": 3
   },
   "file_extension": ".py",
   "mimetype": "text/x-python",
   "name": "python",
   "nbconvert_exporter": "python",
   "pygments_lexer": "ipython3",
   "version": "3.12.1"
  }
 },
 "nbformat": 4,
 "nbformat_minor": 2
}
